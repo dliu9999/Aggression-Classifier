{
 "cells": [
  {
   "cell_type": "code",
   "execution_count": 1,
   "metadata": {},
   "outputs": [],
   "source": [
    "import os\n",
    "import numpy as np\n",
    "import pandas as pd\n",
    "import scipy as sp\n",
    "\n",
    "from sklearn.feature_extraction.text import TfidfVectorizer\n",
    "from sklearn.linear_model import LogisticRegression"
   ]
  },
  {
   "cell_type": "code",
   "execution_count": 2,
   "metadata": {},
   "outputs": [],
   "source": [
    "# read in data\n",
    "train_data = pd.read_csv('../data/train.csv')\n",
    "test_data = pd.read_csv('../data/test.csv')"
   ]
  },
  {
   "cell_type": "code",
   "execution_count": 3,
   "metadata": {},
   "outputs": [],
   "source": [
    "# Since we want a vector representation of all words, we need to take both testing and training and tfidf them\n",
    "all_comment_text = pd.concat([train_data.comment_text, test_data.comment_text])"
   ]
  },
  {
   "cell_type": "code",
   "execution_count": 4,
   "metadata": {},
   "outputs": [],
   "source": [
    "# Initialize the tf-idf matrix from sklearn\n",
    "word_vec = TfidfVectorizer(analyzer='word', ngram_range=(1, 1), max_features=50000)\n",
    "word_vec.fit(all_comment_text)\n",
    "x_train_w = word_vec.transform(train_data.comment_text)\n",
    "x_test_w = word_vec.transform(test_data.comment_text)"
   ]
  },
  {
   "cell_type": "code",
   "execution_count": 5,
   "metadata": {},
   "outputs": [
    {
     "data": {
      "text/plain": [
       "LogisticRegression(C=1.2, class_weight='balanced', dual=False,\n",
       "          fit_intercept=True, intercept_scaling=1, max_iter=100,\n",
       "          multi_class='ovr', n_jobs=1, penalty='l2', random_state=None,\n",
       "          solver='liblinear', tol=0.0001, verbose=0, warm_start=False)"
      ]
     },
     "execution_count": 5,
     "metadata": {},
     "output_type": "execute_result"
    }
   ],
   "source": [
    "# fit a model for each column\n",
    "model_t = LogisticRegression(C=1.2, class_weight='balanced')\n",
    "model_t.fit(x_train_w, train_data['toxic'].values)\n",
    "model_st = LogisticRegression(C=1.2, class_weight='balanced')\n",
    "model_st.fit(x_train_w, train_data['severe_toxic'].values)\n",
    "model_o = LogisticRegression(C=1.2, class_weight='balanced')\n",
    "model_o.fit(x_train_w, train_data['obscene'].values)\n",
    "model_thr = LogisticRegression(C=1.2, class_weight='balanced')\n",
    "model_thr.fit(x_train_w, train_data['threat'].values)\n",
    "model_i = LogisticRegression(C=1.2, class_weight='balanced')\n",
    "model_i.fit(x_train_w, train_data['insult'].values)\n",
    "model_ih = LogisticRegression(C=1.2, class_weight='balanced')\n",
    "model_ih.fit(x_train_w, train_data['identity_hate'].values)"
   ]
  },
  {
   "cell_type": "code",
   "execution_count": 23,
   "metadata": {},
   "outputs": [
    {
     "data": {
      "text/plain": [
       "[0.08283178054665061,\n",
       " 0.0032088612014206834,\n",
       " 0.02209843380769575,\n",
       " 0.002153457348045817,\n",
       " 0.04311302590212134,\n",
       " 0.02558084294725086]"
      ]
     },
     "execution_count": 23,
     "metadata": {},
     "output_type": "execute_result"
    }
   ],
   "source": [
    "# test example\n",
    "lis = []\n",
    "test_str = \"can i help you with that.\"\n",
    "str_vec = pd.Series(test_str)\n",
    "trans = word_vec.transform(str_vec)\n",
    "\n",
    "lis.append(model_t.predict_proba(trans)[0][1])\n",
    "lis.append(model_st.predict_proba(trans)[0][1])\n",
    "lis.append(model_o.predict_proba(trans)[0][1])\n",
    "lis.append(model_thr.predict_proba(trans)[0][1])\n",
    "lis.append(model_i.predict_proba(trans)[0][1])\n",
    "lis.append(model_ih.predict_proba(trans)[0][1])\n",
    "lis"
   ]
  },
  {
   "cell_type": "code",
   "execution_count": null,
   "metadata": {},
   "outputs": [],
   "source": []
  }
 ],
 "metadata": {
  "kernelspec": {
   "display_name": "Python 3",
   "language": "python",
   "name": "python3"
  },
  "language_info": {
   "codemirror_mode": {
    "name": "ipython",
    "version": 3
   },
   "file_extension": ".py",
   "mimetype": "text/x-python",
   "name": "python",
   "nbconvert_exporter": "python",
   "pygments_lexer": "ipython3",
   "version": "3.6.4"
  }
 },
 "nbformat": 4,
 "nbformat_minor": 2
}
